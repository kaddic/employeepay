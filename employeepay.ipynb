{
 "cells": [
  {
   "cell_type": "code",
   "execution_count": 1,
   "metadata": {},
   "outputs": [
    {
     "name": "stdout",
     "output_type": "stream",
     "text": [
      "Enter the wages: $20\n",
      "Enter the regular hours: 8\n",
      "Enter the overtime hours: 2\n",
      "The total weekly pay is $220.0\n"
     ]
    }
   ],
   "source": [
    "# An employee's total weekly pay equals the hourly wage multiplied by the total number of regular hours plus any overtime pay.\n",
    "\n",
    "# Overtime pay equals the total overtime hours multiplied by 1.5 times the hourly wage.\n",
    "\n",
    "# Request the inputs  \n",
    "wage = float(input(\"Enter the wages: $\"))\n",
    "regularHours = float(input(\"Enter the regular hours: \"))\n",
    "overtimeHours = float(input(\"Enter the overtime hours: \"))\n",
    "\n",
    "# Compute the result  \n",
    "totalPay = (wage * regularHours) + (wage * 1.5) * overtimeHours\n",
    "\n",
    "# Display the result  \n",
    "print(\"The total weekly pay is $\" + str(round(totalPay, 2)))"
   ]
  }
 ],
 "metadata": {
  "kernelspec": {
   "display_name": "Python 3",
   "language": "python",
   "name": "python3"
  },
  "language_info": {
   "codemirror_mode": {
    "name": "ipython",
    "version": 3
   },
   "file_extension": ".py",
   "mimetype": "text/x-python",
   "name": "python",
   "nbconvert_exporter": "python",
   "pygments_lexer": "ipython3",
   "version": "3.7.3"
  }
 },
 "nbformat": 4,
 "nbformat_minor": 2
}
